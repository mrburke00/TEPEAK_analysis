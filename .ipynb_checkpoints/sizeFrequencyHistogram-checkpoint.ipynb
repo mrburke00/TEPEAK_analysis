{
 "cells": [
  {
   "cell_type": "code",
   "execution_count": null,
   "id": "c9e440ad-0356-4a78-8a3a-e94ccb2820e5",
   "metadata": {
    "tags": []
   },
   "outputs": [],
   "source": [
    "import pandas as pd\n",
    "import matplotlib.pyplot as plt\n",
    "import numpy as np\n",
    "%matplotlib inline\n",
    "min_size = '200'\n",
    "max_size = '1000'\n",
    "species = \"horse\"\n",
    "data_dir = \"../sv_analysis/data/\"\n",
    "sv_info_file = data_dir+species+'/'+species+'_info_265.txt'\n",
    "\n",
    "\n",
    "df = pd.read_csv(sv_info_file, sep='\\t', lineterminator='\\n')\n",
    "df.columns = ['chrom','start','end','length','seq','species']\n",
    "\n",
    "df['length'].value_counts()\n",
    "df = df[df['length']!='.']\n",
    "\n",
    "#### if you get NaN error run this first line and then delete whatever index is causing the error\n",
    "#print(df[df['length'].isnull()])\n",
    "#df = df.drop(73676)\n",
    "####\n",
    "\n",
    "df['length'] = df['length'].astype(int)\n",
    "df['length'].value_counts()\n",
    "t_rows = df.query('length >= ' + min_size)\n",
    "t_rows = t_rows.query('length <=  ' + max_size)\n",
    "t = t_rows['length'].value_counts()\n",
    "\n",
    "### Use this to print the top N frequencies (helps when trying to narrow down a range)\n",
    "#print(t[0:20])\n",
    "#mean = t.sum()\n",
    "#print(mean)\n",
    "###\n",
    "\n",
    "plt.hist(t_rows['length'], density=False, bins=len(t))\n",
    "#plt.yscale('log')\n",
    "plt.ylabel('log(Frequency)')\n",
    "plt.xlabel('Insertion Size (bp)')"
   ]
  },
  {
   "cell_type": "code",
   "execution_count": null,
   "id": "79b9b256-5c84-49fa-93ec-8d1a0b481a71",
   "metadata": {
    "tags": []
   },
   "outputs": [],
   "source": []
  },
  {
   "cell_type": "code",
   "execution_count": null,
   "id": "67f029e3-cfd6-449b-a7b0-60880e0f991b",
   "metadata": {},
   "outputs": [],
   "source": []
  }
 ],
 "metadata": {
  "kernelspec": {
   "display_name": "Python 3 (ipykernel)",
   "language": "python",
   "name": "python3"
  },
  "language_info": {
   "codemirror_mode": {
    "name": "ipython",
    "version": 3
   },
   "file_extension": ".py",
   "mimetype": "text/x-python",
   "name": "python",
   "nbconvert_exporter": "python",
   "pygments_lexer": "ipython3",
   "version": "3.11.5"
  }
 },
 "nbformat": 4,
 "nbformat_minor": 5
}
