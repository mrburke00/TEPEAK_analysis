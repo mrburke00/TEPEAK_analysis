{
 "cells": [
  {
   "cell_type": "code",
   "execution_count": null,
   "id": "fe266aed-253a-411e-82be-6be89d4d72f6",
   "metadata": {},
   "outputs": [],
   "source": [
    "merged_loci_bed = \"merged_ltr_erv_intersection_test.bed\"\n",
    "bed_loci = \"ltr_erv_test.bed\"\n",
    "output_file = \"test3.bed\"\n",
    "\n",
    "loci = []\n",
    "with open(bed_loci) as f:\n",
    "    lines = f.readlines()\n",
    "    for line in lines:\n",
    "        line = line.split()\n",
    "        loci.append(line)\n",
    "        \n",
    "merged_loci = []\n",
    "with open(merged_loci_bed) as f:\n",
    "    lines = f.readlines()\n",
    "    for line in lines:\n",
    "        line = line.split()\n",
    "        merged_loci.append((line[0],line[1],line[2]))\n",
    "        \n",
    "\n",
    "new_loci = []\n",
    "for l in loci:\n",
    "    for m in merged_loci:\n",
    "        if l[0] == m[0]:\n",
    "            if l[2] >= m[1] and l[1] <= m[2]:\n",
    "                l[0] = m[0]\n",
    "                l[1] = m[1]\n",
    "                l[2] = m[2]\n",
    "                \n",
    "with open(output_file, 'w') as r:\n",
    "    for l in loci:\n",
    "        r.write(l[0] + '\\t' + l[1] + '\\t' + l[2] + '\\t' + l[3] + '\\t' + l[4] + '\\n')\n",
    "print('done')"
   ]
  }
 ],
 "metadata": {
  "kernelspec": {
   "display_name": "Python 3 (ipykernel)",
   "language": "python",
   "name": "python3"
  },
  "language_info": {
   "codemirror_mode": {
    "name": "ipython",
    "version": 3
   },
   "file_extension": ".py",
   "mimetype": "text/x-python",
   "name": "python",
   "nbconvert_exporter": "python",
   "pygments_lexer": "ipython3",
   "version": "3.11.5"
  }
 },
 "nbformat": 4,
 "nbformat_minor": 5
}
