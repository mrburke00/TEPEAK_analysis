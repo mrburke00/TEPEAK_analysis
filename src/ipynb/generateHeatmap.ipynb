{
 "cells": [
  {
   "cell_type": "code",
   "execution_count": null,
   "id": "62fa67ef-1d43-4fcd-a2d7-f5169720f959",
   "metadata": {},
   "outputs": [],
   "source": [
    "import pandas as pd\n",
    "import matplotlib.pyplot as plt\n",
    "import numpy as np\n",
    "import seaborn as sns "
   ]
  },
  {
   "cell_type": "code",
   "execution_count": null,
   "id": "0c98bc6d-db10-4f55-a908-ab028039afda",
   "metadata": {},
   "outputs": [],
   "source": [
    "cluster_file = 'ltr_merged_pop_vcf.bed'\n",
    "sra_info_file = 'horse_sra_simple2.csv'\n",
    "af_threshold = 0.75 #determines the loci allele frequency threshold dropout"
   ]
  },
  {
   "cell_type": "code",
   "execution_count": 1,
   "id": "a99603d6-2192-487c-8504-a077e60d0844",
   "metadata": {
    "tags": []
   },
   "outputs": [],
   "source": [
    "breed_samples_count = {'QUARTER HORSE': 27, 'THOROUGHBRED': 26, 'ARABIAN': 26, \\\n",
    "                       'MONGOLIAN': 26, 'TIBETAN': 21, 'STANDARDBRED': 15, \\\n",
    "                       'JEJU HORSE': 14, 'FREIBERGER': 13,  \\\n",
    "                       'AKHAL-TEKE': 11, 'FRIESIAN': 9, 'HANOVERIAN': 10}\n",
    "\n",
    "entries = []\n",
    "loci = []\n",
    "lengths = []\n",
    "with open(cluster_file) as f:\n",
    "    lines = f.readlines()\n",
    "    for line in lines:\n",
    "        line = line.split()\n",
    "        #if line[0] not in ['X','Y']:\n",
    "        t = line[0]+\",\"+line[1]+\",\"+str(line[2])\n",
    "        if t not in loci:\n",
    "            loci.append(t)\n",
    "        entries.append((t,line[-1]))\n",
    "        \n",
    "meta_data = pd.read_csv(sra_info_file)\n",
    "meta_data=meta_data.dropna(axis=1, how='all')\n",
    "meta_data=meta_data.dropna(axis=0, how='all')\n",
    "\n",
    "if len(meta_data.columns) > 2:\n",
    "    meta_data = meta_data.drop(meta_data.columns[2:len(meta_data.columns)], axis=1)\n",
    "meta_data.columns = ['sra','breed']\n",
    "\n",
    "samples={}\n",
    "for i,(coord, sample_name) in enumerate(entries):\n",
    "    if sample_name in meta_data['sra'].values:\n",
    "        breed_name = meta_data.loc[meta_data['sra'] == sample_name]['breed'].values[0]\n",
    "        if breed_name not in samples.keys():\n",
    "            samples[breed_name] = np.zeros(len(loci))\n",
    "        if coord.split(',')[0] not in ['X', 'Y']: # check which SV in reference to TE loci \n",
    "            idx = loci.index(coord)\n",
    "            samples[breed_name][idx] += 1\n",
    "df=pd.DataFrame.from_dict(samples,orient='index').transpose()\n",
    "cols = list(df.columns.values)\n",
    "cols = sorted(cols, key=str.lower)\n",
    "df_new = df[cols]\n",
    "df_final = df_new\n",
    "for i,row in df_final.iterrows():\n",
    "    for breed_name in list(row.index):\n",
    "        t = (row[breed_name]/breed_samples_count[breed_name])       \n",
    "        if t > 1:\n",
    "            t = 1\n",
    "        row[breed_name] = t\n",
    "        \n",
    "\n",
    "for i,row in df_final.iterrows():\n",
    "    rare_allele = True\n",
    "    for breed_name in list(row.index):\n",
    "        if row[breed_name] > af_threshold:\n",
    "            rare_allele = False\n",
    "            break\n",
    "    if rare_allele:\n",
    "        df_final = df_final.drop(i, axis = 0)\n",
    "        df_final.reset_index(drop=True)\n",
    "        \n",
    "clustermap = sns.clustermap(df_final.T, cmap = 'coolwarm',center=.50, yticklabels=True)#,cmap = 'rocket')\n",
    "#sns.set(rc={'font.family': 'serif'})\n",
    "cbar_ax = clustermap.ax_heatmap.figure.axes[-1]\n",
    "cbar_ax.set_yticklabels(['0', '0.25', '0.50', '0.75', '1.0'])\n",
    "clustermap.tick_params(axis='both', labelsize=14)\n",
    "clustermap.ax_col_dendrogram.set_visible(False)\n",
    "plt.show()"
   ]
  },
  {
   "cell_type": "code",
   "execution_count": null,
   "id": "fa08a787-3f8e-4905-b3e1-9526b682b055",
   "metadata": {},
   "outputs": [],
   "source": []
  }
 ],
 "metadata": {
  "kernelspec": {
   "display_name": "Python 3 (ipykernel)",
   "language": "python",
   "name": "python3"
  },
  "language_info": {
   "codemirror_mode": {
    "name": "ipython",
    "version": 3
   },
   "file_extension": ".py",
   "mimetype": "text/x-python",
   "name": "python",
   "nbconvert_exporter": "python",
   "pygments_lexer": "ipython3",
   "version": "3.11.5"
  }
 },
 "nbformat": 4,
 "nbformat_minor": 5
}
