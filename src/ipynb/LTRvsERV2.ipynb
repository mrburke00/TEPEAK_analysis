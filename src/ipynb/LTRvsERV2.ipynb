{
 "cells": [
  {
   "cell_type": "code",
   "execution_count": null,
   "id": "73b88c39-d558-4494-b015-f7cf6b00714e",
   "metadata": {},
   "outputs": [],
   "source": [
    "import pandas as pd\n",
    "import matplotlib.pyplot as plt\n",
    "import numpy as np\n",
    "import seaborn as sns "
   ]
  },
  {
   "cell_type": "code",
   "execution_count": null,
   "id": "93204270-c0e3-4f2e-a21f-2d40c4826197",
   "metadata": {},
   "outputs": [],
   "source": [
    "erv_file = \"data/horse/ltr_erv2_int_final.bed\"\n",
    "\n",
    "ltr_file = 'data/horse/horse_1373-1376_pop_vcf.txt'\n",
    "\n",
    "sra_info_file = 'data/horse/horse_sra_simple2.csv'"
   ]
  },
  {
   "cell_type": "code",
   "execution_count": null,
   "id": "4dbd9be8-12fe-4687-84f4-db4cdc85fcdb",
   "metadata": {},
   "outputs": [],
   "source": [
    "breed_samples_count = {'QUARTER HORSE': 27, 'THOROUGHBRED': 26, 'ARABIAN': 26, \\\n",
    "                       'MONGOLIAN': 26, 'TIBETAN': 21, 'STANDARDBRED': 15, \\\n",
    "                       'JEJU HORSE': 14, 'FREIBERGER': 13,  \\\n",
    "                       'AKHAL-TEKE': 11, 'FRIESIAN': 9, 'HANOVERIAN': 10}"
   ]
  },
  {
   "cell_type": "code",
   "execution_count": null,
   "id": "6d613e40-d4d2-484d-b6e5-1c45ceecd6e3",
   "metadata": {},
   "outputs": [],
   "source": [
    "erv_entries = []\n",
    "erv_loci = []\n",
    "lengths = []\n",
    "with open(erv_file) as f:\n",
    "    lines = f.readlines()\n",
    "    for line in lines:\n",
    "        line = line.split()\n",
    "        #if line[0] not in ['X','Y']:\n",
    "        t = line[0]+\",\"+line[1]+\",\"+str(line[2])\n",
    "        if t not in erv_loci:\n",
    "            erv_loci.append(t)\n",
    "        erv_entries.append((t,line[-1]))\n",
    "        \n",
    "ltr_entries = []\n",
    "ltr_loci = []\n",
    "map_idx_erv = []\n",
    "with open(ltr_file) as f:\n",
    "    lines = f.readlines()\n",
    "    for line in lines:\n",
    "        line = line.split()\n",
    "        #if line[0] not in ['X','Y']:\n",
    "        t = line[0]+\",\"+line[1]+\",\"+str(line[2])\n",
    "        if t not in ltr_loci:\n",
    "            ltr_loci.append(t)    \n",
    "        ltr_entries.append((t,line[-1]))\n",
    "for e in ltr_loci:\n",
    "    if e in erv_loci:\n",
    "        map_idx_erv.append(1)\n",
    "    else:\n",
    "        map_idx_erv.append(0)"
   ]
  },
  {
   "cell_type": "code",
   "execution_count": null,
   "id": "d940c348-fad0-41bf-8daa-d97b924b7c17",
   "metadata": {},
   "outputs": [],
   "source": [
    "meta_data = pd.read_csv(sra_info_file)\n",
    "meta_data=meta_data.dropna(axis=1, how='all')\n",
    "meta_data=meta_data.dropna(axis=0, how='all')\n",
    "\n",
    "if len(meta_data.columns) > 2:\n",
    "    meta_data = meta_data.drop(meta_data.columns[2:len(meta_data.columns)], axis=1)\n",
    "meta_data.columns = ['sra','breed']"
   ]
  },
  {
   "cell_type": "code",
   "execution_count": null,
   "id": "f89adec3-c056-4b20-ad7a-8ebf5245168b",
   "metadata": {},
   "outputs": [],
   "source": [
    "ltr_samples={}\n",
    "for i,(coord, sample_name) in enumerate(ltr_entries):\n",
    "    if sample_name in meta_data['sra'].values:\n",
    "        breed_name = meta_data.loc[meta_data['sra'] == sample_name]['breed'].values[0]\n",
    "        if breed_name not in ltr_samples.keys():\n",
    "            ltr_samples[breed_name] = np.zeros(len(ltr_loci))\n",
    "        if coord.split(',')[0] not in ['X', 'Y']: # check which SV in reference to TE loci \n",
    "            idx = ltr_loci.index(coord)\n",
    "            ltr_samples[breed_name][idx] += 1\n",
    "erv_samples={}\n",
    "for i,(coord, sample_name) in enumerate(erv_entries):\n",
    "    if sample_name in meta_data['sra'].values:\n",
    "        breed_name = meta_data.loc[meta_data['sra'] == sample_name]['breed'].values[0]\n",
    "        if breed_name not in erv_samples.keys():\n",
    "            erv_samples[breed_name] = np.zeros(len(erv_loci))\n",
    "        if coord.split(',')[0] not in ['X', 'Y']: # check which SV in reference to TE loci \n",
    "            idx = erv_loci.index(coord)\n",
    "            erv_samples[breed_name][idx] += 1"
   ]
  },
  {
   "cell_type": "code",
   "execution_count": null,
   "id": "071be863-d8b9-4900-b148-bc642ab35f52",
   "metadata": {},
   "outputs": [],
   "source": [
    "df_ltr=pd.DataFrame.from_dict(ltr_samples,orient='index').transpose()\n",
    "cols = list(df_ltr.columns.values)\n",
    "cols = sorted(cols, key=str.lower)\n",
    "df_new = df_ltr[cols]\n",
    "df_ltr = df_new\n",
    "for i,row in df_ltr.iterrows():\n",
    "    for breed_name in list(row.index):\n",
    "        t = (row[breed_name]/breed_samples_count[breed_name])\n",
    "        if t > 1:\n",
    "            t = 1\n",
    "        row[breed_name] = t\n",
    "\n",
    "print(df_ltr.shape)\n",
    "for i,row in df_ltr.iterrows():\n",
    "    rare_allele = True\n",
    "    for breed_name in list(row.index):\n",
    "        if row[breed_name] > .25:\n",
    "            rare_allele = False\n",
    "            break\n",
    "    if rare_allele:\n",
    "        df_ltr = df_ltr.drop(i, axis = 0)\n",
    "        df_ltr.reset_index(drop=True)\n",
    "#df_final = df_final[df_final.apply(lambda row: (row > 40).all(), axis=1)]\n",
    "\n",
    "print(df_ltr.shape)\n",
    "\n",
    "df_erv=pd.DataFrame.from_dict(erv_samples,orient='index').transpose()\n",
    "cols = list(df_erv.columns.values)\n",
    "cols = sorted(cols, key=str.lower)\n",
    "df_new = df_erv[cols]\n",
    "df_erv = df_new\n",
    "row_colors = pd.Series(map_idx_erv).map({1: 'darkyellow', 0: 'white'})\n",
    "sns.clustermap(df_ltr, annot=False, row_colors=row_colors, cmap='coolwarm')\n",
    "plt.show()"
   ]
  }
 ],
 "metadata": {
  "kernelspec": {
   "display_name": "Python 3 (ipykernel)",
   "language": "python",
   "name": "python3"
  },
  "language_info": {
   "codemirror_mode": {
    "name": "ipython",
    "version": 3
   },
   "file_extension": ".py",
   "mimetype": "text/x-python",
   "name": "python",
   "nbconvert_exporter": "python",
   "pygments_lexer": "ipython3",
   "version": "3.11.5"
  }
 },
 "nbformat": 4,
 "nbformat_minor": 5
}
