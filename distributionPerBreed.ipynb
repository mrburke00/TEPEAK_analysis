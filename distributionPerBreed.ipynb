{
 "cells": [
  {
   "cell_type": "code",
   "execution_count": null,
   "id": "f1857b61-70e2-4402-9ab8-652b7c30893a",
   "metadata": {},
   "outputs": [],
   "source": [
    "import pandas as pd\n",
    "import matplotlib.pyplot as plt\n",
    "import numpy as np\n",
    "import seaborn as sns "
   ]
  },
  {
   "cell_type": "code",
   "execution_count": null,
   "id": "4b18d905-abc6-43a4-9fd7-18ca40933865",
   "metadata": {},
   "outputs": [],
   "source": [
    "cluster_file = 'ltr_merged_pop_vcf.bed'\n",
    "sra_info_file = 'horse_sra_simple2.csv'"
   ]
  },
  {
   "cell_type": "code",
   "execution_count": null,
   "id": "b7e2c0fd-a4a1-4e6b-91dd-a41272aad72a",
   "metadata": {},
   "outputs": [],
   "source": [
    "breed_samples_count = {'QUARTER HORSE': 27, 'THOROUGHBRED': 26, 'ARABIAN': 26, \\\n",
    "                       'MONGOLIAN': 26, 'TIBETAN': 21, 'STANDARDBRED': 15, \\\n",
    "                       'JEJU HORSE': 14, 'FREIBERGER': 13,  \\\n",
    "                       'AKHAL-TEKE': 11, 'FRIESIAN': 9, 'HANOVERIAN': 10}\n",
    "\n",
    "entries = []\n",
    "loci = []\n",
    "lengths = []\n",
    "with open(cluster_file) as f:\n",
    "    lines = f.readlines()\n",
    "    for line in lines:\n",
    "        line = line.split()\n",
    "        t = line[0]+\",\"+line[1]+\",\"+str(line[2])\n",
    "        if t not in loci:\n",
    "            loci.append(t)\n",
    "        entries.append((t,line[-1]))\n",
    "        \n",
    "meta_data = pd.read_csv(sra_info_file)\n",
    "meta_data=meta_data.dropna(axis=1, how='all')\n",
    "meta_data=meta_data.dropna(axis=0, how='all')\n",
    "\n",
    "if len(meta_data.columns) > 2:\n",
    "    meta_data = meta_data.drop(meta_data.columns[2:len(meta_data.columns)], axis=1)\n",
    "meta_data.columns = ['sra','breed']\n",
    "\n",
    "samples={}\n",
    "for i,(coord, sample_name) in enumerate(entries):\n",
    "    if sample_name in meta_data['sra'].values:\n",
    "        breed_name = meta_data.loc[meta_data['sra'] == sample_name]['breed'].values[0]\n",
    "        if breed_name not in samples.keys():\n",
    "            samples[breed_name] = np.zeros(len(loci))\n",
    "        if coord.split(',')[0] not in ['X', 'Y']: # check which SV in reference to TE loci \n",
    "            idx = loci.index(coord)\n",
    "            samples[breed_name][idx] += 1\n",
    "df=pd.DataFrame.from_dict(samples,orient='index').transpose()\n",
    "cols = list(df.columns.values)\n",
    "cols = sorted(cols, key=str.lower)\n",
    "df_new = df[cols]\n",
    "df_final = df_new\n",
    "\n",
    "for i,row in df_final.iterrows():\n",
    "    for breed_name in list(row.index):\n",
    "        t = row[breed_name]/breed_samples_count[breed_name]\n",
    "        if t > 1.0:\n",
    "            t = 1.0\n",
    "        row[breed_name] = t\n",
    "for i,row in df_final.iterrows():\n",
    "    rare_allele = True\n",
    "    for breed_name in list(row.index):\n",
    "        if row[breed_name] > 0:\n",
    "            rare_allele = False\n",
    "            break\n",
    "    if rare_allele:\n",
    "        df_final = df_final.drop(i, axis = 0)\n",
    "        df_final.reset_index(drop=True)"
   ]
  },
  {
   "cell_type": "code",
   "execution_count": null,
   "id": "9dd39f51-7615-44b8-9ebf-fb65781dddf6",
   "metadata": {},
   "outputs": [],
   "source": [
    "def normaliseCounts(widths,maxwidth):\n",
    "    widths = np.array(widths)/float(maxwidth)\n",
    "    return widths"
   ]
  },
  {
   "cell_type": "code",
   "execution_count": null,
   "id": "e6d43319-3534-4e75-a96d-f77f8848f0b6",
   "metadata": {},
   "outputs": [],
   "source": [
    "fig, ax = plt.subplots(3, 3, sharex=True, sharey=True, figsize=(12, 2.75))\n",
    "n_cols = df_final.columns.tolist()\n",
    "\n",
    "for i in range(3):\n",
    "    for j in range(3):\n",
    "        col_name = n_cols[i*3+j]\n",
    "        print(col_name)\n",
    "        vals = df_final[col_name].values.tolist()\n",
    "        vals = [value for value in vals if value != 0]\n",
    "        ax1=ax[i,j]\n",
    "        ax1.hist(vals, bins = 15, width=0.05, color='#0080FF')#\n",
    "        \n",
    "\n",
    "        ax1.set_xlim(0, 1.0)\n",
    "        ax1.set_ylim(0,2500)\n",
    "        ax1.set_ylabel('')\n",
    "        ax1.set_xticks([0,0.5,1])\n",
    "        ax1.set_title(col_name, fontsize=9, loc='right', y=.75)\n",
    "        ax1.spines['top'].set_visible(False)\n",
    "        ax1.spines['right'].set_visible(False)\n",
    "        ax1.spines['left'].set_visible(False)\n",
    "        ax1.tick_params(axis='y', labelsize=8)\n",
    "        ax1.tick_params(axis='x', labelsize=8)\n",
    "\n",
    "ax1 = ax[2,1]\n",
    "ax1.set_xlabel('Allele Frequency', fontsize=14, labelpad=10)\n",
    "ax1 = ax[1,0]\n",
    "ax1.set_ylabel('Frequency', fontsize=14, labelpad=10)\n",
    "plt.show()"
   ]
  }
 ],
 "metadata": {
  "kernelspec": {
   "display_name": "Python 3 (ipykernel)",
   "language": "python",
   "name": "python3"
  },
  "language_info": {
   "codemirror_mode": {
    "name": "ipython",
    "version": 3
   },
   "file_extension": ".py",
   "mimetype": "text/x-python",
   "name": "python",
   "nbconvert_exporter": "python",
   "pygments_lexer": "ipython3",
   "version": "3.11.5"
  }
 },
 "nbformat": 4,
 "nbformat_minor": 5
}
