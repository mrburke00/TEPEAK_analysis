{
 "cells": [
  {
   "cell_type": "code",
   "execution_count": null,
   "id": "9f034e85-6957-46bf-91cf-21d17430dc2d",
   "metadata": {},
   "outputs": [],
   "source": [
    "import pandas as pd\n",
    "import matplotlib.pyplot as plt\n",
    "import numpy as np\n",
    "import seaborn as sns "
   ]
  },
  {
   "cell_type": "code",
   "execution_count": null,
   "id": "4363809c-b78c-42cf-8d2e-7e45bef36995",
   "metadata": {},
   "outputs": [],
   "source": [
    "cluster_file = 'ltr_merged_pop_vcf.bed'\n",
    "sra_info_file = 'horse_sra_simple2.csv'\n",
    "af_threshold = 0.75 #determines the loci allele frequency threshold dropout"
   ]
  },
  {
   "cell_type": "code",
   "execution_count": null,
   "id": "4f4232c9-8d35-421a-8358-ebd7d421ee79",
   "metadata": {},
   "outputs": [],
   "source": [
    "breed_samples_count = {'QUARTER HORSE': 27, 'THOROUGHBRED': 26, 'ARABIAN': 26, \\\n",
    "                       'MONGOLIAN': 26, 'TIBETAN': 21, 'STANDARDBRED': 15, \\\n",
    "                       'JEJU HORSE': 14, 'FREIBERGER': 13,  \\\n",
    "                       'AKHAL-TEKE': 11, 'FRIESIAN': 9, 'HANOVERIAN': 10}\n",
    "\n",
    "entries = []\n",
    "loci = []\n",
    "lengths = []\n",
    "with open(cluster_file) as f:\n",
    "    lines = f.readlines()\n",
    "    for line in lines:\n",
    "        line = line.split()\n",
    "        #if line[0] not in ['X','Y']:\n",
    "        t = line[0]+\",\"+line[1]+\",\"+str(line[2])\n",
    "        if t not in loci:\n",
    "            loci.append(t)\n",
    "        entries.append((t,line[-1]))\n",
    "        \n",
    "meta_data = pd.read_csv(sra_info_file)\n",
    "meta_data=meta_data.dropna(axis=1, how='all')\n",
    "meta_data=meta_data.dropna(axis=0, how='all')\n",
    "\n",
    "if len(meta_data.columns) > 2:\n",
    "    meta_data = meta_data.drop(meta_data.columns[2:len(meta_data.columns)], axis=1)\n",
    "meta_data.columns = ['sra','breed']\n",
    "\n",
    "samples={}\n",
    "for i,(coord, sample_name) in enumerate(entries):\n",
    "    if sample_name in meta_data['sra'].values:\n",
    "        breed_name = meta_data.loc[meta_data['sra'] == sample_name]['breed'].values[0]\n",
    "        if breed_name not in samples.keys():\n",
    "            samples[breed_name] = np.zeros(len(loci))\n",
    "        if coord.split(',')[0] not in ['X', 'Y']: # check which SV in reference to TE loci \n",
    "            idx = loci.index(coord)\n",
    "            samples[breed_name][idx] += 1\n",
    "df=pd.DataFrame.from_dict(samples,orient='index').transpose()\n",
    "cols = list(df.columns.values)\n",
    "cols = sorted(cols, key=str.lower)\n",
    "df_new = df[cols]\n",
    "df_final = df_new\n",
    "for i,row in df_final.iterrows():\n",
    "    for breed_name in list(row.index):\n",
    "        t = (row[breed_name]/breed_samples_count[breed_name])       \n",
    "        if t > 1:\n",
    "            t = 1\n",
    "        row[breed_name] = t\n",
    "        \n",
    "\n",
    "for i,row in df_final.iterrows():\n",
    "    rare_allele = True\n",
    "    for breed_name in list(row.index):\n",
    "        if row[breed_name] > af_threshold:\n",
    "            rare_allele = False\n",
    "            break\n",
    "    if rare_allele:\n",
    "        df_final = df_final.drop(i, axis = 0)\n",
    "        df_final.reset_index(drop=True)"
   ]
  },
  {
   "cell_type": "code",
   "execution_count": null,
   "id": "6d1c1fd8-51c9-4da4-9ebb-a3349abbdb03",
   "metadata": {},
   "outputs": [],
   "source": [
    "pair_counts = pd.DataFrame(index=df_final.columns, columns=df_final.columns)\n",
    "\n",
    "for breed1 in df_final.columns:\n",
    "    for breed2 in df_final.columns:\n",
    "        if breed1 != breed2:\n",
    "            count = ((df_final[breed1] > threshold) & (df_final[breed2] > threshold)).sum()\n",
    "            pair_counts.loc[breed1, breed2] = count\n",
    "        else:\n",
    "            pair_counts.loc[breed1, breed2] = 0\n",
    "\n",
    "# Convert the counts to integers\n",
    "pair_counts = pair_counts.astype(int)\n",
    "\n",
    "# Plot the pairs as a heatmap\n",
    "plt.figure(figsize=(10, 8))\n",
    "sns.heatmap(pair_counts, annot=True,cmap='coolwarm', fmt='d')\n",
    "plt.title(f'Number of Shared Loci for Each Breed Pair')\n",
    "plt.show()"
   ]
  }
 ],
 "metadata": {
  "kernelspec": {
   "display_name": "Python 3 (ipykernel)",
   "language": "python",
   "name": "python3"
  },
  "language_info": {
   "codemirror_mode": {
    "name": "ipython",
    "version": 3
   },
   "file_extension": ".py",
   "mimetype": "text/x-python",
   "name": "python",
   "nbconvert_exporter": "python",
   "pygments_lexer": "ipython3",
   "version": "3.11.5"
  }
 },
 "nbformat": 4,
 "nbformat_minor": 5
}
